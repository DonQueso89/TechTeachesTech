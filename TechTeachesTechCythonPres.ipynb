{
 "cells": [
  {
   "cell_type": "code",
   "execution_count": 15,
   "metadata": {},
   "outputs": [
    {
     "name": "stdout",
     "output_type": "stream",
     "text": [
      "The Cython extension is already loaded. To reload it, use:\n",
      "  %reload_ext Cython\n"
     ]
    }
   ],
   "source": [
    "%load_ext Cython\n",
    "import timeit"
   ]
  },
  {
   "cell_type": "markdown",
   "metadata": {},
   "source": [
    "# 2: Cython language basics"
   ]
  },
  {
   "cell_type": "markdown",
   "metadata": {},
   "source": [
    "**Variable types**"
   ]
  },
  {
   "cell_type": "code",
   "execution_count": 2,
   "metadata": {},
   "outputs": [],
   "source": [
    "%%cython\n",
    "\n",
    "def cy_summation(n):\n",
    "    a = 0\n",
    "    for i in range(n):\n",
    "        a += i\n",
    "    return a"
   ]
  },
  {
   "cell_type": "code",
   "execution_count": 3,
   "metadata": {},
   "outputs": [],
   "source": [
    "def py_summation(n):\n",
    "    a = 0\n",
    "    for i in range(n):\n",
    "        a += i\n",
    "    return a"
   ]
  },
  {
   "cell_type": "code",
   "execution_count": 5,
   "metadata": {},
   "outputs": [
    {
     "name": "stdout",
     "output_type": "stream",
     "text": [
      "396 µs ± 11.7 µs per loop (mean ± std. dev. of 7 runs, 1000 loops each)\n"
     ]
    }
   ],
   "source": [
    "%timeit cy_summation(10000)"
   ]
  },
  {
   "cell_type": "code",
   "execution_count": 6,
   "metadata": {},
   "outputs": [
    {
     "name": "stdout",
     "output_type": "stream",
     "text": [
      "557 µs ± 18.5 µs per loop (mean ± std. dev. of 7 runs, 1000 loops each)\n"
     ]
    }
   ],
   "source": [
    "%timeit py_summation(10000)"
   ]
  },
  {
   "cell_type": "markdown",
   "metadata": {},
   "source": [
    "Let's add some types"
   ]
  },
  {
   "cell_type": "code",
   "execution_count": 8,
   "metadata": {},
   "outputs": [],
   "source": [
    "%%cython\n",
    "\n",
    "def cy_summation(n):\n",
    "    a = 0\n",
    "    for i in range(n):\n",
    "        a += i\n",
    "    return a"
   ]
  },
  {
   "cell_type": "code",
   "execution_count": 9,
   "metadata": {},
   "outputs": [
    {
     "name": "stdout",
     "output_type": "stream",
     "text": [
      "430 µs ± 14.7 µs per loop (mean ± std. dev. of 7 runs, 1000 loops each)\n"
     ]
    }
   ],
   "source": [
    "%timeit cy_summation(10000)"
   ]
  },
  {
   "cell_type": "markdown",
   "metadata": {},
   "source": [
    "For illustration:"
   ]
  },
  {
   "cell_type": "code",
   "execution_count": 4,
   "metadata": {},
   "outputs": [
    {
     "name": "stdout",
     "output_type": "stream",
     "text": [
      "Python performance is 11024.926019x Cython performance\n"
     ]
    }
   ],
   "source": [
    "import timeit\n",
    "\n",
    "cy_perf = timeit.timeit('cy_summation(10000)', setup='from summation import cy_summation', number=100)\n",
    "py_perf = timeit.timeit('py_summation(10000)', setup='from summation import py_summation', number=100)\n",
    "\n",
    "print('Python performance is %.6fx Cython performance' % (py_perf / cy_perf))"
   ]
  },
  {
   "cell_type": "markdown",
   "metadata": {},
   "source": [
    "**Functions**"
   ]
  },
  {
   "cell_type": "markdown",
   "metadata": {},
   "source": [
    "**cdef** can also be used to declare a C function, with the limitation that the function can't be invoked directly from Python anymore."
   ]
  },
  {
   "cell_type": "code",
   "execution_count": 28,
   "metadata": {},
   "outputs": [
    {
     "name": "stdout",
     "output_type": "stream",
     "text": [
      "10.0\n"
     ]
    }
   ],
   "source": [
    "%%cython\n",
    "\n",
    "cdef double my_function(int a, int b, double f):\n",
    "    return (a + b) / f\n",
    "\n",
    "print(my_function(10, 20, 3.00))"
   ]
  },
  {
   "cell_type": "code",
   "execution_count": 9,
   "metadata": {},
   "outputs": [
    {
     "ename": "NameError",
     "evalue": "name 'my_function' is not defined",
     "output_type": "error",
     "traceback": [
      "\u001b[0;31m---------------------------------------------------------------------------\u001b[0m",
      "\u001b[0;31mNameError\u001b[0m                                 Traceback (most recent call last)",
      "\u001b[0;32m<ipython-input-9-6ce05530e0cd>\u001b[0m in \u001b[0;36m<module>\u001b[0;34m()\u001b[0m\n\u001b[0;32m----> 1\u001b[0;31m \u001b[0mprint\u001b[0m\u001b[0;34m(\u001b[0m\u001b[0mmy_function\u001b[0m\u001b[0;34m(\u001b[0m\u001b[0;36m10\u001b[0m\u001b[0;34m,\u001b[0m \u001b[0;36m20\u001b[0m\u001b[0;34m,\u001b[0m \u001b[0;36m3.00\u001b[0m\u001b[0;34m)\u001b[0m\u001b[0;34m)\u001b[0m\u001b[0;34m\u001b[0m\u001b[0m\n\u001b[0m",
      "\u001b[0;31mNameError\u001b[0m: name 'my_function' is not defined"
     ]
    }
   ],
   "source": [
    "print(my_function(10, 20, 3.00))"
   ]
  },
  {
   "cell_type": "markdown",
   "metadata": {},
   "source": [
    "**cpdef**, however, wraps the 'pure' c function in a Python object, thereby avoiding the limitations imposed by cdef. In simple terms, cpdef invokes the pure C function from a Python function for you."
   ]
  },
  {
   "cell_type": "code",
   "execution_count": 31,
   "metadata": {},
   "outputs": [
    {
     "name": "stdout",
     "output_type": "stream",
     "text": [
      "10.0\n"
     ]
    }
   ],
   "source": [
    "%%cython\n",
    "\n",
    "cpdef double my_wrapped_function(int a, int b, double f):\n",
    "    return (a + b) / f\n",
    "\n",
    "print(my_wrapped_function(10, 20, 3.00))"
   ]
  },
  {
   "cell_type": "code",
   "execution_count": 32,
   "metadata": {},
   "outputs": [
    {
     "name": "stdout",
     "output_type": "stream",
     "text": [
      "10.0\n"
     ]
    }
   ],
   "source": [
    "print(my_wrapped_function(10, 20, 3.00))"
   ]
  },
  {
   "cell_type": "markdown",
   "metadata": {},
   "source": [
    "**cpdef** does come with a bit of extra overhead."
   ]
  },
  {
   "cell_type": "markdown",
   "metadata": {},
   "source": [
    "**Complex datatypes**"
   ]
  },
  {
   "cell_type": "code",
   "execution_count": 27,
   "metadata": {},
   "outputs": [
    {
     "name": "stdout",
     "output_type": "stream",
     "text": [
      "{'campaign_id': 10001, 'tactic_id': 50001, 'banner_id': 30001, 'bid_price_cpm': 1.0, 'ast': 0, 'placement_id': 9223372036854775807}\n"
     ]
    }
   ],
   "source": [
    "%%cython\n",
    "\n",
    "ctypedef long long PlacementId\n",
    "\n",
    "cdef enum AppOrSite:\n",
    "    app = 0\n",
    "    site = 1\n",
    "\n",
    "ctypedef struct Bid:\n",
    "    signed int campaign_id\n",
    "    signed int tactic_id\n",
    "    signed int banner_id\n",
    "    float bid_price_cpm\n",
    "    int ast\n",
    "    PlacementId placement_id\n",
    "\n",
    "bid  = Bid(campaign_id=10001, tactic_id=50001, banner_id=30001, bid_price_cpm=1.00, ast=AppOrSite.app, placement_id=9223372036854775807)\n",
    "print(bid)"
   ]
  },
  {
   "cell_type": "markdown",
   "metadata": {},
   "source": [
    "**Exceptions**"
   ]
  },
  {
   "cell_type": "markdown",
   "metadata": {},
   "source": [
    "As exceptions do not exist in C, C functions do not have a way of reporting exceptions raised inside of them if they don't return Python objects."
   ]
  },
  {
   "cell_type": "code",
   "execution_count": 7,
   "metadata": {},
   "outputs": [],
   "source": [
    "%%cython\n",
    "\n",
    "cdef int _no_negatives_please(int i):\n",
    "    if i < 0:\n",
    "        raise Exception(\"no negatives!\")\n",
    "    else:\n",
    "        print(\"thank you\")\n",
    "        return -1\n",
    "\n",
    "cpdef int no_negatives_please(int i):\n",
    "    return _no_negatives_please(i)"
   ]
  },
  {
   "cell_type": "code",
   "execution_count": 8,
   "metadata": {
    "scrolled": true
   },
   "outputs": [
    {
     "ename": "Exception",
     "evalue": "no negatives!",
     "output_type": "error",
     "traceback": [
      "\u001b[0;31m---------------------------------------------------------------------------\u001b[0m",
      "\u001b[0;31mException\u001b[0m                                 Traceback (most recent call last)",
      "\u001b[0;31mException\u001b[0m: no negatives!"
     ]
    },
    {
     "name": "stdout",
     "output_type": "stream",
     "text": [
      "0\n",
      "still executing this stuff...\n"
     ]
    },
    {
     "name": "stderr",
     "output_type": "stream",
     "text": [
      "Exception ignored in: '_cython_magic_6a2b215c88f2ee93ec9f576bd1f6039e._no_negatives_please'\n",
      "Exception: no negatives!\n"
     ]
    }
   ],
   "source": [
    "print(no_negatives_please(-1))\n",
    "print('still executing this stuff...')"
   ]
  },
  {
   "cell_type": "markdown",
   "metadata": {},
   "source": [
    "We can cure this with the 'except' clause which serves to propagate errors raised in Cython functions or C functions that involve C / Python API interactions."
   ]
  },
  {
   "cell_type": "markdown",
   "metadata": {},
   "source": [
    "**Directly including functions from C libraries**"
   ]
  },
  {
   "cell_type": "code",
   "execution_count": 30,
   "metadata": {},
   "outputs": [
    {
     "name": "stdout",
     "output_type": "stream",
     "text": [
      "60.0\n"
     ]
    }
   ],
   "source": [
    "%%cython\n",
    "\n",
    "cdef extern from \"math.h\":\n",
    "    double sqrt(double arg)\n",
    "\n",
    "print(sqrt(3600))"
   ]
  },
  {
   "cell_type": "markdown",
   "metadata": {},
   "source": [
    "# 3: Analysing Cython"
   ]
  },
  {
   "cell_type": "markdown",
   "metadata": {},
   "source": [
    "**Annotating and profiling the Basel problem**"
   ]
  },
  {
   "cell_type": "code",
   "execution_count": 31,
   "metadata": {
    "scrolled": true
   },
   "outputs": [
    {
     "name": "stdout",
     "output_type": "stream",
     "text": [
      " "
     ]
    }
   ],
   "source": [
    "def recip_square(x):\n",
    "    return 1. / x**2\n",
    "\n",
    "def approximate_pi(n):\n",
    "    result = 0.\n",
    "    for i in range(1, n + 1):\n",
    "        result += recip_square(i)\n",
    "    return (6 * result) ** .5\n",
    "\n",
    "%prun approximate_pi(10000000)"
   ]
  },
  {
   "cell_type": "code",
   "execution_count": 34,
   "metadata": {},
   "outputs": [],
   "source": [
    "%%cython\n",
    "#cython: profile=True\n",
    "\n",
    "import cython\n",
    "\n",
    "def cy_recip_square(x):\n",
    "    return 1. / x**2\n",
    "\n",
    "def cy_approximate_pi(n):\n",
    "    result = 0.\n",
    "    for i in range(1, n + 1):\n",
    "        result += cy_recip_square(i)\n",
    "    return (6 * result) ** .5"
   ]
  },
  {
   "cell_type": "code",
   "execution_count": 35,
   "metadata": {},
   "outputs": [
    {
     "name": "stdout",
     "output_type": "stream",
     "text": [
      " "
     ]
    }
   ],
   "source": [
    "%prun -s time cy_approximate_pi(10000000)"
   ]
  },
  {
   "cell_type": "markdown",
   "metadata": {},
   "source": [
    "**Legend for cProfile**\n",
    "\n",
    "**ncalls**   \n",
    "the number of calls.   \n",
    "**tottime**   \n",
    "the total time spent in the given function (and excluding time made in calls to sub-functions)   \n",
    "**percall**   \n",
    "is the quotient of tottime divided by ncalls   \n",
    "**cumtime**   \n",
    "is the cumulative time spent in this and all subfunctions (from invocation till exit).    \n",
    "**percall**   \n",
    "is the quotient of cumtime divided by primitive calls   \n",
    "**filename:lineno(function)**   \n",
    "provides the respective data of each function"
   ]
  },
  {
   "cell_type": "markdown",
   "metadata": {},
   "source": [
    "# 4: Breaking Cython"
   ]
  },
  {
   "cell_type": "code",
   "execution_count": 28,
   "metadata": {
    "scrolled": false
   },
   "outputs": [],
   "source": [
    "%%cython\n",
    "\n",
    "cpdef int incr(int i):\n",
    "    i = i + 1\n",
    "    return i"
   ]
  },
  {
   "cell_type": "code",
   "execution_count": 17,
   "metadata": {},
   "outputs": [
    {
     "data": {
      "text/plain": [
       "101"
      ]
     },
     "execution_count": 17,
     "metadata": {},
     "output_type": "execute_result"
    }
   ],
   "source": [
    "incr(100)"
   ]
  },
  {
   "cell_type": "markdown",
   "metadata": {},
   "source": [
    " An int is represented by 4 bytes. The interpreter will try to fit the argument passed to incr within this range.  What happens when we invoke incr with an integer beyond this range?"
   ]
  },
  {
   "cell_type": "code",
   "execution_count": null,
   "metadata": {},
   "outputs": [],
   "source": [
    "# Break the incr function"
   ]
  },
  {
   "cell_type": "markdown",
   "metadata": {},
   "source": [
    "Python functions (functions that are not defined with cdef or cpdef) need to convert the types passed to them. The Cython compiler does this for you but only for structs, numeric types and string types. Passing other types, such as functions, will result in a compile-time error."
   ]
  },
  {
   "cell_type": "code",
   "execution_count": 14,
   "metadata": {},
   "outputs": [],
   "source": [
    "%%cython\n",
    "\n",
    "def _execute_callback(callback):\n",
    "    cdef char* s = \"hello world\";\n",
    "    callback(s)\n",
    "    return 0\n",
    "\n",
    "cdef callback(msg):\n",
    "    print('hello world')\n",
    "\n",
    "_execute_callback(callback)"
   ]
  },
  {
   "cell_type": "markdown",
   "metadata": {},
   "source": [
    "**Optimisation exercise**"
   ]
  },
  {
   "cell_type": "code",
   "execution_count": 24,
   "metadata": {},
   "outputs": [],
   "source": [
    "def part_one(a, b):\n",
    "    factor_a = 16807\n",
    "    factor_b = 48271\n",
    "    mod = 2147483647\n",
    "    match_count = 0\n",
    "\n",
    "    for i in range(40000000):\n",
    "        a = a * factor_a % mod\n",
    "        b = b * factor_b % mod\n",
    "        binary_a = bin(a)[2:][-16:]\n",
    "        binary_b = bin(b)[2:][-16:]\n",
    "        if binary_a == binary_b:\n",
    "            match_count += 1\n",
    "        i += 1\n",
    "\n",
    "    return match_count"
   ]
  },
  {
   "cell_type": "code",
   "execution_count": 26,
   "metadata": {},
   "outputs": [
    {
     "name": "stdout",
     "output_type": "stream",
     "text": [
      "Part 1: 573\n",
      "Part 1: 573\n",
      "Part 1: 573\n",
      "Part 1: 573\n",
      "Part 1: 573\n",
      "Part 1: 573\n",
      "Part 1: 573\n",
      "50.4 s ± 2.62 s per loop (mean ± std. dev. of 7 runs, 1 loop each)\n"
     ]
    }
   ],
   "source": [
    "# Timing the performance of part 1\n",
    "a, b = map(lambda x: int(x[-3:]), open('aoc/inp15.txt').read().split('\\n'))\n",
    "%timeit -n1 print('Part 1: {}'.format(part_one(a, b)))"
   ]
  },
  {
   "cell_type": "code",
   "execution_count": 22,
   "metadata": {},
   "outputs": [],
   "source": [
    "def part_two(a, b):\n",
    "    factor_a = 16807\n",
    "    factor_b = 48271\n",
    "    mod = 2147483647\n",
    "    match_count = 0\n",
    "    a_numbers = []\n",
    "    b_numbers = []\n",
    "\n",
    "    while len(a_numbers) < 5000000:\n",
    "        a = a * factor_a % mod\n",
    "        if a % 4 == 0:\n",
    "            a_numbers.append(a)\n",
    "\n",
    "    while len(b_numbers) < 5000000:\n",
    "        b = b * factor_b % mod\n",
    "        if b % 8 == 0:\n",
    "            b_numbers.append(b)\n",
    "    i = 0\n",
    "    while i < 5000000:\n",
    "        if bin(a_numbers[i])[2:][-16:] == bin(b_numbers[i])[2:][-16:]:\n",
    "            match_count += 1\n",
    "        i += 1\n",
    "    return match_count"
   ]
  },
  {
   "cell_type": "code",
   "execution_count": 25,
   "metadata": {},
   "outputs": [
    {
     "name": "stdout",
     "output_type": "stream",
     "text": [
      "Part 2: 294\n",
      "Part 2: 294\n",
      "Part 2: 294\n",
      "Part 2: 294\n",
      "Part 2: 294\n",
      "Part 2: 294\n",
      "Part 2: 294\n",
      "25.3 s ± 215 ms per loop (mean ± std. dev. of 7 runs, 1 loop each)\n"
     ]
    }
   ],
   "source": [
    "# Timing the performance of part 2\n",
    "a, b = map(lambda x: int(x[-3:]), open('aoc/inp15.txt').read().split('\\n'))\n",
    "%timeit -n1 'Part 2: {}'.format(part_two(a, b))"
   ]
  }
 ],
 "metadata": {
  "kernelspec": {
   "display_name": "Python 3",
   "language": "python",
   "name": "python3"
  },
  "language_info": {
   "codemirror_mode": {
    "name": "ipython",
    "version": 3
   },
   "file_extension": ".py",
   "mimetype": "text/x-python",
   "name": "python",
   "nbconvert_exporter": "python",
   "pygments_lexer": "ipython3",
   "version": "3.6.3"
  }
 },
 "nbformat": 4,
 "nbformat_minor": 2
}
